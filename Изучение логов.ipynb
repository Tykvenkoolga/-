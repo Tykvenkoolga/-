{
 "cells": [
  {
   "cell_type": "code",
   "execution_count": 1,
   "metadata": {},
   "outputs": [],
   "source": [
    "import numpy as np\n",
    "import pandas as pd\n",
    "import scipy as sc\n",
    "from scipy import stats\n",
    "import seaborn as sns\n",
    "import matplotlib.pyplot as plt \n",
    "import string \n",
    "%matplotlib inline"
   ]
  },
  {
   "cell_type": "code",
   "execution_count": 2,
   "metadata": {},
   "outputs": [
    {
     "data": {
      "text/html": [
       "<div>\n",
       "<style scoped>\n",
       "    .dataframe tbody tr th:only-of-type {\n",
       "        vertical-align: middle;\n",
       "    }\n",
       "\n",
       "    .dataframe tbody tr th {\n",
       "        vertical-align: top;\n",
       "    }\n",
       "\n",
       "    .dataframe thead th {\n",
       "        text-align: right;\n",
       "    }\n",
       "</style>\n",
       "<table border=\"1\" class=\"dataframe\">\n",
       "  <thead>\n",
       "    <tr style=\"text-align: right;\">\n",
       "      <th></th>\n",
       "      <th>Дата</th>\n",
       "      <th>Время</th>\n",
       "      <th>ID Пользователя</th>\n",
       "      <th>Страница</th>\n",
       "      <th>Действие</th>\n",
       "      <th>Код результата</th>\n",
       "    </tr>\n",
       "  </thead>\n",
       "  <tbody>\n",
       "    <tr>\n",
       "      <th>0</th>\n",
       "      <td>2019-03-01</td>\n",
       "      <td>2019-03-01 05:06:04</td>\n",
       "      <td>16fa8c9c-83af-4d28-b4e6-39696083f2e6</td>\n",
       "      <td>Главная</td>\n",
       "      <td>Загрузить</td>\n",
       "      <td>ok</td>\n",
       "    </tr>\n",
       "    <tr>\n",
       "      <th>1</th>\n",
       "      <td>2019-03-01</td>\n",
       "      <td>2019-03-01 05:06:54</td>\n",
       "      <td>a5c7d2a0-2a3e-406d-a682-4a2f46aaaff7</td>\n",
       "      <td>Главная</td>\n",
       "      <td>Загрузить</td>\n",
       "      <td>ok</td>\n",
       "    </tr>\n",
       "    <tr>\n",
       "      <th>2</th>\n",
       "      <td>2019-03-01</td>\n",
       "      <td>2019-03-01 05:07:12</td>\n",
       "      <td>16fa8c9c-83af-4d28-b4e6-39696083f2e6</td>\n",
       "      <td>Редактор</td>\n",
       "      <td>Закрыть</td>\n",
       "      <td>ok</td>\n",
       "    </tr>\n",
       "    <tr>\n",
       "      <th>3</th>\n",
       "      <td>2019-03-01</td>\n",
       "      <td>2019-03-01 05:07:13</td>\n",
       "      <td>16fa8c9c-83af-4d28-b4e6-39696083f2e6</td>\n",
       "      <td>Главная</td>\n",
       "      <td>Загрузить</td>\n",
       "      <td>ok</td>\n",
       "    </tr>\n",
       "    <tr>\n",
       "      <th>4</th>\n",
       "      <td>2019-03-01</td>\n",
       "      <td>2019-03-01 05:08:30</td>\n",
       "      <td>a5c7d2a0-2a3e-406d-a682-4a2f46aaaff7</td>\n",
       "      <td>Редактор</td>\n",
       "      <td>Закрыть</td>\n",
       "      <td>ok</td>\n",
       "    </tr>\n",
       "  </tbody>\n",
       "</table>\n",
       "</div>"
      ],
      "text/plain": [
       "         Дата                Время                       ID Пользователя  \\\n",
       "0  2019-03-01  2019-03-01 05:06:04  16fa8c9c-83af-4d28-b4e6-39696083f2e6   \n",
       "1  2019-03-01  2019-03-01 05:06:54  a5c7d2a0-2a3e-406d-a682-4a2f46aaaff7   \n",
       "2  2019-03-01  2019-03-01 05:07:12  16fa8c9c-83af-4d28-b4e6-39696083f2e6   \n",
       "3  2019-03-01  2019-03-01 05:07:13  16fa8c9c-83af-4d28-b4e6-39696083f2e6   \n",
       "4  2019-03-01  2019-03-01 05:08:30  a5c7d2a0-2a3e-406d-a682-4a2f46aaaff7   \n",
       "\n",
       "   Страница   Действие Код результата  \n",
       "0   Главная  Загрузить             ok  \n",
       "1   Главная  Загрузить             ok  \n",
       "2  Редактор    Закрыть             ok  \n",
       "3   Главная  Загрузить             ok  \n",
       "4  Редактор    Закрыть             ok  "
      ]
     },
     "execution_count": 2,
     "metadata": {},
     "output_type": "execute_result"
    }
   ],
   "source": [
    "Log = pd.read_csv('Log.csv')\n",
    "Log.head()"
   ]
  },
  {
   "cell_type": "code",
   "execution_count": 3,
   "metadata": {},
   "outputs": [
    {
     "name": "stdout",
     "output_type": "stream",
     "text": [
      "<class 'pandas.core.frame.DataFrame'>\n",
      "RangeIndex: 326875 entries, 0 to 326874\n",
      "Data columns (total 6 columns):\n",
      "Дата               326875 non-null object\n",
      "Время              326875 non-null object\n",
      "ID Пользователя    326875 non-null object\n",
      "Страница           326875 non-null object\n",
      "Действие           326875 non-null object\n",
      "Код результата     326875 non-null object\n",
      "dtypes: object(6)\n",
      "memory usage: 15.0+ MB\n"
     ]
    }
   ],
   "source": [
    "Log.info()"
   ]
  },
  {
   "cell_type": "code",
   "execution_count": 5,
   "metadata": {},
   "outputs": [
    {
     "data": {
      "text/html": [
       "<div>\n",
       "<style scoped>\n",
       "    .dataframe tbody tr th:only-of-type {\n",
       "        vertical-align: middle;\n",
       "    }\n",
       "\n",
       "    .dataframe tbody tr th {\n",
       "        vertical-align: top;\n",
       "    }\n",
       "\n",
       "    .dataframe thead th {\n",
       "        text-align: right;\n",
       "    }\n",
       "</style>\n",
       "<table border=\"1\" class=\"dataframe\">\n",
       "  <thead>\n",
       "    <tr style=\"text-align: right;\">\n",
       "      <th></th>\n",
       "      <th>Дата</th>\n",
       "      <th>Время</th>\n",
       "      <th>ID Пользователя</th>\n",
       "      <th>Страница</th>\n",
       "      <th>Действие</th>\n",
       "      <th>Код результата</th>\n",
       "    </tr>\n",
       "  </thead>\n",
       "  <tbody>\n",
       "    <tr>\n",
       "      <th>count</th>\n",
       "      <td>326875</td>\n",
       "      <td>326875</td>\n",
       "      <td>326875</td>\n",
       "      <td>326875</td>\n",
       "      <td>326875</td>\n",
       "      <td>326875</td>\n",
       "    </tr>\n",
       "    <tr>\n",
       "      <th>unique</th>\n",
       "      <td>91</td>\n",
       "      <td>320120</td>\n",
       "      <td>340</td>\n",
       "      <td>4</td>\n",
       "      <td>5</td>\n",
       "      <td>2</td>\n",
       "    </tr>\n",
       "    <tr>\n",
       "      <th>top</th>\n",
       "      <td>2019-03-03</td>\n",
       "      <td>2019-05-23 22:33:58</td>\n",
       "      <td>f801398f-11c7-44a8-a61d-b2b2635c9231</td>\n",
       "      <td>Главная</td>\n",
       "      <td>Закрыть</td>\n",
       "      <td>ok</td>\n",
       "    </tr>\n",
       "    <tr>\n",
       "      <th>freq</th>\n",
       "      <td>7306</td>\n",
       "      <td>3</td>\n",
       "      <td>5007</td>\n",
       "      <td>147632</td>\n",
       "      <td>113352</td>\n",
       "      <td>318211</td>\n",
       "    </tr>\n",
       "  </tbody>\n",
       "</table>\n",
       "</div>"
      ],
      "text/plain": [
       "              Дата                Время                       ID Пользователя  \\\n",
       "count       326875               326875                                326875   \n",
       "unique          91               320120                                   340   \n",
       "top     2019-03-03  2019-05-23 22:33:58  f801398f-11c7-44a8-a61d-b2b2635c9231   \n",
       "freq          7306                    3                                  5007   \n",
       "\n",
       "       Страница Действие Код результата  \n",
       "count    326875   326875         326875  \n",
       "unique        4        5              2  \n",
       "top     Главная  Закрыть             ok  \n",
       "freq     147632   113352         318211  "
      ]
     },
     "execution_count": 5,
     "metadata": {},
     "output_type": "execute_result"
    }
   ],
   "source": [
    "Log.describe()"
   ]
  },
  {
   "cell_type": "code",
   "execution_count": 3,
   "metadata": {},
   "outputs": [
    {
     "data": {
      "text/plain": [
       "Главная          147632\n",
       "Редактор          98915\n",
       "Файл принят       74689\n",
       "Файл отклонён      5639\n",
       "Name: Страница, dtype: int64"
      ]
     },
     "execution_count": 3,
     "metadata": {},
     "output_type": "execute_result"
    }
   ],
   "source": [
    "Log['Страница'].value_counts()"
   ]
  },
  {
   "cell_type": "code",
   "execution_count": 4,
   "metadata": {},
   "outputs": [
    {
     "data": {
      "text/plain": [
       "Закрыть                              113352\n",
       "Посмотреть результат приёма           81254\n",
       "Загрузить                             66378\n",
       "Отправить                             32981\n",
       "<Пользователь редактировал текст>     32910\n",
       "Name: Действие, dtype: int64"
      ]
     },
     "execution_count": 4,
     "metadata": {},
     "output_type": "execute_result"
    }
   ],
   "source": [
    "Log['Действие'].value_counts()"
   ]
  },
  {
   "cell_type": "code",
   "execution_count": 5,
   "metadata": {},
   "outputs": [
    {
     "data": {
      "text/plain": [
       "ok      318211\n",
       "fail      8664\n",
       "Name: Код результата, dtype: int64"
      ]
     },
     "execution_count": 5,
     "metadata": {},
     "output_type": "execute_result"
    }
   ],
   "source": [
    "Log['Код результата'].value_counts()"
   ]
  },
  {
   "cell_type": "code",
   "execution_count": 6,
   "metadata": {},
   "outputs": [
    {
     "data": {
      "text/plain": [
       "'2019-03-01'"
      ]
     },
     "execution_count": 6,
     "metadata": {},
     "output_type": "execute_result"
    }
   ],
   "source": [
    "Log['Дата'].min()"
   ]
  },
  {
   "cell_type": "code",
   "execution_count": 7,
   "metadata": {},
   "outputs": [
    {
     "data": {
      "text/plain": [
       "'2019-05-30'"
      ]
     },
     "execution_count": 7,
     "metadata": {},
     "output_type": "execute_result"
    }
   ],
   "source": [
    "Log['Дата'].max()"
   ]
  },
  {
   "cell_type": "code",
   "execution_count": 11,
   "metadata": {
    "scrolled": true
   },
   "outputs": [
    {
     "data": {
      "text/plain": [
       "340"
      ]
     },
     "execution_count": 11,
     "metadata": {},
     "output_type": "execute_result"
    }
   ],
   "source": [
    "Log['ID Пользователя'].nunique()"
   ]
  },
  {
   "cell_type": "code",
   "execution_count": 13,
   "metadata": {},
   "outputs": [],
   "source": [
    "Log['Дата'] = pd.to_datetime(Log['Дата']) "
   ]
  },
  {
   "cell_type": "code",
   "execution_count": 16,
   "metadata": {},
   "outputs": [
    {
     "data": {
      "text/plain": [
       "6    50914\n",
       "1    50760\n",
       "5    46594\n",
       "0    44879\n",
       "2    44834\n",
       "3    44632\n",
       "4    44262\n",
       "Name: Дата, dtype: int64"
      ]
     },
     "execution_count": 16,
     "metadata": {},
     "output_type": "execute_result"
    }
   ],
   "source": [
    "Log['Дата'].dt.dayofweek.value_counts()"
   ]
  },
  {
   "cell_type": "code",
   "execution_count": 17,
   "metadata": {},
   "outputs": [
    {
     "data": {
      "text/plain": [
       "<matplotlib.axes._subplots.AxesSubplot at 0x1a02eed0160>"
      ]
     },
     "execution_count": 17,
     "metadata": {},
     "output_type": "execute_result"
    },
    {
     "data": {
      "image/png": "[encoded data removed]",
      "text/plain": [
       "<Figure size 1440x360 with 1 Axes>"
      ]
     },
     "metadata": {
      "needs_background": "light"
     },
     "output_type": "display_data"
    }
   ],
   "source": [
    "Log['Дата'].dt.dayofweek.value_counts().sort_index().plot(kind=\"bar\", figsize=(20,5), title = 'Распределение количества загрузок по дням недели')"
   ]
  },
  {
   "cell_type": "code",
   "execution_count": 15,
   "metadata": {
    "scrolled": true
   },
   "outputs": [
    {
     "data": {
      "text/plain": [
       "3     17641\n",
       "1     14293\n",
       "2     14034\n",
       "5     11671\n",
       "29    11379\n",
       "19    11184\n",
       "28    11119\n",
       "7     11031\n",
       "9     10975\n",
       "23    10893\n",
       "13    10708\n",
       "11    10606\n",
       "14    10584\n",
       "21    10563\n",
       "17    10447\n",
       "26    10221\n",
       "16    10215\n",
       "27    10174\n",
       "4     10075\n",
       "25    10021\n",
       "6     10005\n",
       "15     9717\n",
       "24     9632\n",
       "30     9613\n",
       "18     9453\n",
       "10     9312\n",
       "8      9215\n",
       "22     9154\n",
       "12     9087\n",
       "20     8974\n",
       "31     4879\n",
       "Name: Дата, dtype: int64"
      ]
     },
     "execution_count": 15,
     "metadata": {},
     "output_type": "execute_result"
    }
   ],
   "source": [
    "Log['Дата'].dt.day.value_counts()"
   ]
  },
  {
   "cell_type": "code",
   "execution_count": 18,
   "metadata": {},
   "outputs": [
    {
     "data": {
      "text/plain": [
       "<matplotlib.axes._subplots.AxesSubplot at 0x1a02eadcb38>"
      ]
     },
     "execution_count": 18,
     "metadata": {},
     "output_type": "execute_result"
    },
    {
     "data": {
      "image/png": "[encoded data removed]",
      "text/plain": [
       "<Figure size 1440x360 with 1 Axes>"
      ]
     },
     "metadata": {
      "needs_background": "light"
     },
     "output_type": "display_data"
    }
   ],
   "source": [
    "Log['Дата'].dt.day.value_counts().sort_index().plot(kind='bar', figsize=(20,5), title = 'Распределение количества загрузок по дням месяца')"
   ]
  },
  {
   "cell_type": "code",
   "execution_count": 19,
   "metadata": {
    "scrolled": true
   },
   "outputs": [
    {
     "data": {
      "text/plain": [
       "<matplotlib.legend.Legend at 0x1a02ec86518>"
      ]
     },
     "execution_count": 19,
     "metadata": {},
     "output_type": "execute_result"
    },
    {
     "data": {
      "image/png": "[encoded data removed]",
      "text/plain": [
       "<Figure size 864x432 with 1 Axes>"
      ]
     },
     "metadata": {
      "needs_background": "light"
     },
     "output_type": "display_data"
    }
   ],
   "source": [
    "plt.figure (figsize = (12,6))\n",
    "sns.countplot (data=Log, \n",
    "x = 'Действие',\n",
    "hue = 'Код результата')\n",
    "plt.title('Распределение типа результата по виду действия')\n",
    "plt.legend(loc = 'upper right')"
   ]
  },
  {
   "cell_type": "code",
   "execution_count": 30,
   "metadata": {},
   "outputs": [
    {
     "data": {
      "text/plain": [
       "Действие                           Код результата\n",
       "<Пользователь редактировал текст>  ok                 32052\n",
       "                                   fail                 858\n",
       "Загрузить                          ok                 64614\n",
       "                                   fail                1764\n",
       "Закрыть                            ok                110398\n",
       "                                   fail                2954\n",
       "Отправить                          ok                 32124\n",
       "                                   fail                 857\n",
       "Посмотреть результат приёма        ok                 79023\n",
       "                                   fail                2231\n",
       "Name: Код результата, dtype: int64"
      ]
     },
     "execution_count": 30,
     "metadata": {},
     "output_type": "execute_result"
    }
   ],
   "source": [
    "Log.groupby(['Действие'])['Код результата'].value_counts()"
   ]
  },
  {
   "cell_type": "code",
   "execution_count": 24,
   "metadata": {},
   "outputs": [
    {
     "data": {
      "text/plain": [
       "<matplotlib.legend.Legend at 0x1a02f326f60>"
      ]
     },
     "execution_count": 24,
     "metadata": {},
     "output_type": "execute_result"
    },
    {
     "data": {
      "image/png": "[encoded data removed]",
      "text/plain": [
       "<Figure size 864x432 with 1 Axes>"
      ]
     },
     "metadata": {
      "needs_background": "light"
     },
     "output_type": "display_data"
    }
   ],
   "source": [
    "plt.figure (figsize = (12,6))\n",
    "sns.countplot (data=Log, \n",
    "x = 'Страница',\n",
    "hue = 'Код результата')\n",
    "plt.title('Распределение типа результата по виду действия')\n",
    "plt.legend(loc = 'upper right')"
   ]
  },
  {
   "cell_type": "code",
   "execution_count": 29,
   "metadata": {
    "scrolled": true
   },
   "outputs": [
    {
     "data": {
      "text/plain": [
       "Страница       Код результата\n",
       "Главная        ok                143637\n",
       "               fail                3995\n",
       "Редактор       ok                 96375\n",
       "               fail                2540\n",
       "Файл отклонён  ok                  5463\n",
       "               fail                 176\n",
       "Файл принят    ok                 72736\n",
       "               fail                1953\n",
       "Name: Код результата, dtype: int64"
      ]
     },
     "execution_count": 29,
     "metadata": {},
     "output_type": "execute_result"
    }
   ],
   "source": [
    "Log.groupby(['Страница'])['Код результата'].value_counts()"
   ]
  },
  {
   "cell_type": "code",
   "execution_count": 17,
   "metadata": {
    "scrolled": true
   },
   "outputs": [
    {
     "data": {
      "text/plain": [
       "<matplotlib.legend.Legend at 0x20bc77c7748>"
      ]
     },
     "execution_count": 17,
     "metadata": {},
     "output_type": "execute_result"
    },
    {
     "data": {
      "image/png": "[encoded data removed]",
      "text/plain": [
       "<Figure size 864x432 with 1 Axes>"
      ]
     },
     "metadata": {
      "needs_background": "light"
     },
     "output_type": "display_data"
    }
   ],
   "source": [
    "plt.figure (figsize = (12,6))\n",
    "sns.countplot (data=Log, \n",
    "x = 'Страница',\n",
    "hue = 'Действие')\n",
    "plt.title('Распределение действий по страницам')\n",
    "plt.legend(loc = 'upper right')"
   ]
  },
  {
   "cell_type": "code",
   "execution_count": 13,
   "metadata": {
    "scrolled": true
   },
   "outputs": [
    {
     "data": {
      "text/plain": [
       "ID Пользователя                       Действие                         \n",
       "002d4a31-b247-460b-90c5-a50198d8c593  Закрыть                               114\n",
       "                                      Посмотреть результат приёма            90\n",
       "                                      Загрузить                              63\n",
       "                                      Отправить                              35\n",
       "                                      <Пользователь редактировал текст>      27\n",
       "0061e9bd-2959-4cc1-b159-507a98f5ae16  Загрузить                               6\n",
       "                                      Закрыть                                 6\n",
       "                                      <Пользователь редактировал текст>       4\n",
       "                                      Посмотреть результат приёма             3\n",
       "                                      Отправить                               2\n",
       "011bd0a9-61ff-4d3d-b882-322e3567848e  Закрыть                               155\n",
       "                                      Посмотреть результат приёма           107\n",
       "                                      Загрузить                              93\n",
       "                                      Отправить                              47\n",
       "                                      <Пользователь редактировал текст>      29\n",
       "01469a6c-e466-426d-a60d-14109ae1c07d  Загрузить                               6\n",
       "                                      Закрыть                                 4\n",
       "                                      <Пользователь редактировал текст>       3\n",
       "                                      Отправить                               2\n",
       "                                      Посмотреть результат приёма             1\n",
       "03a35eed-7db1-460f-ab90-b4de509f10a4  Закрыть                              1442\n",
       "                                      Посмотреть результат приёма          1015\n",
       "                                      Загрузить                             905\n",
       "                                      Отправить                             469\n",
       "                                      <Пользователь редактировал текст>     445\n",
       "04012992-cfd6-48ad-be22-72267e95fb25  Закрыть                               132\n",
       "                                      Посмотреть результат приёма            91\n",
       "                                      Загрузить                              84\n",
       "                                      <Пользователь редактировал текст>      55\n",
       "                                      Отправить                              41\n",
       "                                                                           ... \n",
       "fc5d28de-f0af-4b74-ae59-f60763c12daa  Закрыть                                 9\n",
       "                                      Загрузить                               7\n",
       "                                      Посмотреть результат приёма             7\n",
       "                                      <Пользователь редактировал текст>       5\n",
       "                                      Отправить                               2\n",
       "fd99f46b-e39d-4b6d-9871-45d10f56602f  Закрыть                                85\n",
       "                                      Посмотреть результат приёма            62\n",
       "                                      Загрузить                              54\n",
       "                                      Отправить                              29\n",
       "                                      <Пользователь редактировал текст>      21\n",
       "fe524db3-2fff-4fd4-bd78-98f64e6673eb  Закрыть                                11\n",
       "                                      Посмотреть результат приёма             9\n",
       "                                      Загрузить                               6\n",
       "                                      Отправить                               4\n",
       "                                      <Пользователь редактировал текст>       1\n",
       "fe930a37-d846-425c-a261-0ceee0819e87  Закрыть                               168\n",
       "                                      Посмотреть результат приёма           120\n",
       "                                      Загрузить                              93\n",
       "                                      <Пользователь редактировал текст>      45\n",
       "                                      Отправить                              45\n",
       "feab29a1-0481-48f5-adf6-f1586ae5b501  Закрыть                               100\n",
       "                                      Посмотреть результат приёма            79\n",
       "                                      Загрузить                              58\n",
       "                                      Отправить                              32\n",
       "                                      <Пользователь редактировал текст>      20\n",
       "ff73e8a7-8ca6-45a5-9d28-a3b1f88d50e8  Закрыть                               102\n",
       "                                      Посмотреть результат приёма            85\n",
       "                                      Загрузить                              63\n",
       "                                      <Пользователь редактировал текст>      32\n",
       "                                      Отправить                              29\n",
       "Name: Действие, Length: 1693, dtype: int64"
      ]
     },
     "execution_count": 13,
     "metadata": {},
     "output_type": "execute_result"
    }
   ],
   "source": [
    "Log.groupby(['ID Пользователя'])['Действие'].value_counts()"
   ]
  },
  {
   "cell_type": "code",
   "execution_count": 15,
   "metadata": {},
   "outputs": [],
   "source": [
    "Log_P = Log[Log['Действие'] =='Посмотреть результат приёма']"
   ]
  },
  {
   "cell_type": "code",
   "execution_count": 16,
   "metadata": {},
   "outputs": [
    {
     "data": {
      "text/plain": [
       "340"
      ]
     },
     "execution_count": 16,
     "metadata": {},
     "output_type": "execute_result"
    }
   ],
   "source": [
    "Log_P['ID Пользователя'].nunique()"
   ]
  },
  {
   "cell_type": "code",
   "execution_count": 47,
   "metadata": {},
   "outputs": [
    {
     "data": {
      "text/plain": [
       "ID Пользователя\n",
       "f801398f-11c7-44a8-a61d-b2b2635c9231    1270\n",
       "b4beb650-e64f-422e-a946-96610add7b08    1212\n",
       "5cce636c-0c6c-4422-b52b-b21c4f8768e9    1186\n",
       "2ab0b9f5-2563-4244-a427-8e3d3946ddbb    1184\n",
       "42ff4996-c7d5-4690-a972-58425a7ee6c3    1183\n",
       "eddc7163-f6ed-4ee1-83f8-b39417efbf9c    1175\n",
       "3368e933-073c-4311-a0e0-11d38ce616f0    1166\n",
       "2ec12a60-ed26-4c33-a03d-2bb4aa6f5786    1165\n",
       "50920542-6da4-4120-95aa-3728a6fdf739    1163\n",
       "b8e8e6b3-ba2c-45c8-b22e-674200e55880    1163\n",
       "5fe57dbd-b0aa-411e-ae2a-67c80acfe1ac    1157\n",
       "e45a8138-12c2-42dd-94dc-a57959aaddac    1152\n",
       "62a49e42-4de2-4c11-8e25-8b3ff87af9c0    1151\n",
       "9875c540-925a-4510-ae87-cf504b8b315d    1148\n",
       "622dba9e-b0db-43be-a4c2-607e8e5e2ced    1147\n",
       "60a7c940-d5cf-473d-9d05-ff53d2b4ff8a    1141\n",
       "e7f4d64a-dfff-4803-81ef-d1b174ebd421    1138\n",
       "dff0d85f-08bf-4457-8257-db11e07eb764    1136\n",
       "9319970b-d60b-404d-adff-cc7d0a58b9bd    1135\n",
       "e5761340-bb4c-4817-851c-b722ab7833aa    1134\n",
       "14d1d6ca-2f6c-44cb-a2e2-b77545cc4c11    1133\n",
       "51bd28ac-2a1a-4006-a56f-917eb7d5c1fa    1128\n",
       "943d87e4-1a2e-44ff-8186-d93db040b945    1126\n",
       "824c5572-b1d2-4512-991f-6dd49b48d56b    1126\n",
       "695a1961-59cf-4390-b187-5570c8d98c12    1121\n",
       "5c2e70e4-344e-4449-a8e3-42dbec62c3c0    1118\n",
       "c4dbca87-91f1-41ac-9d10-2a0d1b49c47a    1113\n",
       "14b17270-460b-454d-9e85-b606b8f16b31    1111\n",
       "69a0f551-9560-4382-9861-ddc4eb1d6d33    1107\n",
       "e54cb88a-df77-40b2-b4a4-2887e6a32b34    1104\n",
       "                                        ... \n",
       "2a19d663-0151-4c8e-9f1b-9cf84299dbb7       5\n",
       "0e758b9f-4b02-4b96-9bf0-2bfa94a2a3f1       5\n",
       "112c7cfe-c0fb-42bc-9260-3e1420f55064       5\n",
       "a3e0a2c4-8342-4092-a690-b21b113082ce       5\n",
       "d1d8ddc1-a30f-4625-928d-973d2ac76792       5\n",
       "3d8ab643-37b5-4519-89ea-538750edc61a       5\n",
       "cb0ac8c6-fcde-475a-99c5-1a85a51d7bb4       5\n",
       "e15a8fec-bc69-4b5f-a756-611910f54274       5\n",
       "8ab204c8-fffc-4f1f-b254-f412add1bcdb       5\n",
       "89dde6fc-b618-4c5a-a0cc-789a175fc3ff       5\n",
       "04e0dc39-0eea-4b61-8e43-d703583956b8       5\n",
       "1e2dfbc7-a3ae-4f39-ada4-4c8d220df396       5\n",
       "0b1d5bdd-765a-4c1b-870b-897a9867bdd2       5\n",
       "05bbe5c1-c924-4dc9-96c7-87f4ee33895b       4\n",
       "bf74caba-b3b8-4546-89df-c5367d344347       4\n",
       "e8e703fc-3750-428d-bb79-4287a4c1e4f3       4\n",
       "16fa8c9c-83af-4d28-b4e6-39696083f2e6       4\n",
       "99315763-7e0a-4859-a585-7a66637915e9       4\n",
       "e773cf22-5f84-49a7-951b-85f8a4c4833b       4\n",
       "62c850b8-74c0-4dde-a533-1e57f36ee79b       3\n",
       "242520f1-2b2d-4fa3-8bc8-88091930eaa1       3\n",
       "0061e9bd-2959-4cc1-b159-507a98f5ae16       3\n",
       "08c92e47-cc9f-4fd7-b855-de207ec322fa       2\n",
       "b91000ab-b6e3-4295-8134-68460c955816       2\n",
       "9d892135-dd1f-4755-856a-370bf02e08f4       2\n",
       "cc8cfe03-9250-4ed6-a1da-294a55f9ce5d       1\n",
       "14cad2ee-6484-42da-99d3-e16f97aa5f0a       1\n",
       "a6e1bb7d-1bfe-4ad3-885a-8f72318c1d26       1\n",
       "01469a6c-e466-426d-a60d-14109ae1c07d       1\n",
       "71a1338e-f8d1-4e46-bf28-f574885e1bfc       1\n",
       "Name: Действие, Length: 340, dtype: int64"
      ]
     },
     "execution_count": 47,
     "metadata": {},
     "output_type": "execute_result"
    }
   ],
   "source": [
    "ooo = Log_P.groupby(['ID Пользователя'])['Действие'].count()\n",
    "ooo.sort_values(ascending = False)"
   ]
  },
  {
   "cell_type": "code",
   "execution_count": 49,
   "metadata": {},
   "outputs": [
    {
     "data": {
      "text/plain": [
       "69.5"
      ]
     },
     "execution_count": 49,
     "metadata": {},
     "output_type": "execute_result"
    }
   ],
   "source": [
    "ooo.median()"
   ]
  }
 ],
 "metadata": {
  "kernelspec": {
   "display_name": "Python 3",
   "language": "python",
   "name": "python3"
  },
  "language_info": {
   "codemirror_mode": {
    "name": "ipython",
    "version": 3
   },
   "file_extension": ".py",
   "mimetype": "text/x-python",
   "name": "python",
   "nbconvert_exporter": "python",
   "pygments_lexer": "ipython3",
   "version": "3.7.1"
  }
 },
 "nbformat": 4,
 "nbformat_minor": 2
}
